{
 "cells": [
  {
   "cell_type": "markdown",
   "metadata": {
    "toc": true
   },
   "source": [
    "<h1>Table of Contents<span class=\"tocSkip\"></span></h1>\n",
    "<div class=\"toc\"><ul class=\"toc-item\"><li><span><a href=\"#Qubit-example\" data-toc-modified-id=\"Qubit-example-1\"><span class=\"toc-item-num\">1&nbsp;&nbsp;</span>Qubit example</a></span></li><li><span><a href=\"#Generating-Data\" data-toc-modified-id=\"Generating-Data-2\"><span class=\"toc-item-num\">2&nbsp;&nbsp;</span>Generating Data</a></span></li><li><span><a href=\"#Creating-the-$\\beta$-VAE\" data-toc-modified-id=\"Creating-the-$\\beta$-VAE-3\"><span class=\"toc-item-num\">3&nbsp;&nbsp;</span>Creating the $\\beta$-VAE</a></span></li></ul></div>"
   ]
  },
  {
   "cell_type": "markdown",
   "metadata": {},
   "source": [
    "# Qubit example\n",
    "\n",
    "Here we reproduce the result of tomography qubits from the [Iten and Metger et al. paper](https://arxiv.org/abs/1807.10300)."
   ]
  },
  {
   "cell_type": "code",
   "execution_count": 1,
   "metadata": {},
   "outputs": [],
   "source": [
    "%load_ext autoreload\n",
    "%autoreload 2"
   ]
  },
  {
   "cell_type": "code",
   "execution_count": 22,
   "metadata": {},
   "outputs": [],
   "source": [
    "import warnings\n",
    "warnings.simplefilter(action='ignore', category=FutureWarning)\n",
    "\n",
    "import os \n",
    "\n",
    "from Models.VAE_Keras import Dense_VariationalAutoencoder_Keras, Scinet_VariationalAutoencoder_Keras\n",
    "\n",
    "import numpy as np\n",
    "import matplotlib.pyplot as plt"
   ]
  },
  {
   "cell_type": "markdown",
   "metadata": {},
   "source": [
    "# Generating Data\n",
    "\n",
    "Data generation taken from [this github repository](https://github.com/eth-nn-physics/nn_physical_concepts)"
   ]
  },
  {
   "cell_type": "code",
   "execution_count": 16,
   "metadata": {},
   "outputs": [],
   "source": [
    "from scipy.stats import unitary_group\n",
    "\n",
    "def random_state(qubit_num):\n",
    "    return unitary_group.rvs(2**qubit_num)[:, 0]\n",
    "\n",
    "\n",
    "def random_subspace_states(qubit_num, k, states_num):\n",
    "    \"\"\"\n",
    "    qubit_num: number of qubits\n",
    "    k: number of orthogonal basis vectors\n",
    "    states_num: number of states randomly sampled from subspace\n",
    "    \"\"\"\n",
    "\n",
    "    assert(2 * 2**qubit_num > k)\n",
    "    output_states = []\n",
    "    subspace_basis = (unitary_group.rvs(2**qubit_num)[:, :k]).T\n",
    "    for _ in range(states_num):\n",
    "        c = np.random.rand(k) - 0.5\n",
    "        linear_combination = 0.j\n",
    "        for i in range(k):\n",
    "            linear_combination += c[i] * subspace_basis[i]\n",
    "        output_states.append(linear_combination / np.linalg.norm(linear_combination))\n",
    "    return output_states\n",
    "\n",
    "\n",
    "def projection(a, b):\n",
    "    return np.abs(np.dot(np.conj(a), b))**2\n",
    "\n",
    "\n",
    "def create_data(qubit_num, measurement_num1, measurement_num2, sample_num, file_name=None, incomplete_tomography=[False, False]):\n",
    "    \"\"\"\n",
    "    ----------------------------------------------------------------------------\n",
    "    Params:\n",
    "    qubit_num: number of qubits\n",
    "    measurement_num1: number of projective measurements to be performed on input qubit\n",
    "    measurement_num2: number of projective measurements to be performed on projection axis\n",
    "    sample_num: number of training examples to be generated\n",
    "    file_name: file is stored in /data/file_name.pkl.gz\n",
    "    incomplete_tomography: if the i-th entry is k, then the states for the projectors M_i \n",
    "                           are sampled from a k-dimensional real subspace\n",
    "    \"\"\"\n",
    "    states_in1 = np.empty([sample_num, 2**qubit_num], dtype=np.complex_)\n",
    "    states_in2 = np.empty([sample_num, 2**qubit_num], dtype=np.complex_)\n",
    "    meas_res1 = np.empty([sample_num, measurement_num1], dtype=np.float_)\n",
    "    meas_res2 = np.empty([sample_num, measurement_num2], dtype=np.float_)\n",
    "    output = np.empty([sample_num, 1])\n",
    "    if incomplete_tomography[0]:\n",
    "        fixed_states_in1 = random_subspace_states(qubit_num, incomplete_tomography[0], measurement_num1)\n",
    "    else:\n",
    "        fixed_states_in1 = [random_state(qubit_num) for _ in range(measurement_num1)]\n",
    "        \n",
    "    if incomplete_tomography[1]:\n",
    "        fixed_states_in2 = random_subspace_states(qubit_num, incomplete_tomography[1], measurement_num2)\n",
    "        \n",
    "    else:\n",
    "        fixed_states_in2 = [random_state(qubit_num) for _ in range(measurement_num2)]\n",
    "    for i in range(sample_num):\n",
    "        states_in1[i] = random_state(qubit_num)\n",
    "        states_in2[i] = random_state(qubit_num)\n",
    "        meas_res1[i] = np.array([projection(s1, states_in1[i]) for s1 in fixed_states_in1])\n",
    "        meas_res2[i] = np.array([projection(s2, states_in2[i]) for s2 in fixed_states_in2])\n",
    "        output[i, 0] = projection(states_in1[i], states_in2[i])\n",
    "    result = ([meas_res1, meas_res2, output], [states_in1, states_in2], [fixed_states_in1, fixed_states_in2])\n",
    "\n",
    "    return result"
   ]
  },
  {
   "cell_type": "code",
   "execution_count": 17,
   "metadata": {},
   "outputs": [],
   "source": [
    "#simulation parameters\n",
    "qubit_n = 1\n",
    "meas_num1 = 10\n",
    "meas_num2 = 10\n",
    "samples = 10000\n",
    "\n",
    "validation_size_p = 5 # % of validation set"
   ]
  },
  {
   "cell_type": "code",
   "execution_count": 18,
   "metadata": {
    "code_folding": []
   },
   "outputs": [],
   "source": [
    "%timeit\n",
    "data, states, params = create_data(qubit_num=qubit_n, \n",
    "                                measurement_num1=meas_num1, \n",
    "                                measurement_num2=meas_num2, \n",
    "                                sample_num=samples, \n",
    "                                )"
   ]
  },
  {
   "cell_type": "code",
   "execution_count": 19,
   "metadata": {
    "cell_style": "center"
   },
   "outputs": [],
   "source": [
    "states = np.array(states)\n",
    "train_val_separation = int(len(data[0]) * (1 - validation_size_p / 100.))\n",
    "training_data = [data[i][:train_val_separation] for i in [0, 1, 2]]\n",
    "training_states = states[:train_val_separation]\n",
    "validation_data = [data[i][train_val_separation:] for i in [0, 1, 2]]\n",
    "validation_states = states[train_val_separation:]"
   ]
  },
  {
   "cell_type": "markdown",
   "metadata": {},
   "source": [
    "# Creating the $\\beta$-VAE"
   ]
  },
  {
   "cell_type": "code",
   "execution_count": 97,
   "metadata": {},
   "outputs": [],
   "source": [
    "ZDIM = 4"
   ]
  },
  {
   "cell_type": "code",
   "execution_count": 98,
   "metadata": {},
   "outputs": [],
   "source": [
    "import os \n",
    "\n",
    "# run params\n",
    "SECTION = 'bvae'\n",
    "RUN_ID = '0001'\n",
    "DATA_NAME = '{}_qubit_{}'.format(qubit_n,ZDIM)\n",
    "RUN_FOLDER = 'run/{}/'.format(SECTION)\n",
    "RUN_FOLDER += '_'.join([RUN_ID, DATA_NAME])\n",
    "\n",
    "if not os.path.exists(RUN_FOLDER):\n",
    "    os.makedirs(RUN_FOLDER)\n",
    "    os.mkdir(os.path.join(RUN_FOLDER, 'viz'))\n",
    "    os.mkdir(os.path.join(RUN_FOLDER, 'images'))\n",
    "    os.mkdir(os.path.join(RUN_FOLDER, 'weights'))\n",
    "\n",
    "mode =  'build'"
   ]
  },
  {
   "cell_type": "code",
   "execution_count": 99,
   "metadata": {},
   "outputs": [
    {
     "name": "stdout",
     "output_type": "stream",
     "text": [
      "(128,)\n"
     ]
    }
   ],
   "source": [
    "vae = Scinet_VariationalAutoencoder_Keras(\n",
    "    input_dim = (10,)\n",
    "    , encoder_dense_units = [1024,512,256,128]\n",
    "    , decoder_dense_units = [128,256,512,1024,1]\n",
    "    , z_dim = ZDIM\n",
    "    , q_dim = (10,)\n",
    ")\n",
    "\n",
    "if mode == 'build':\n",
    "    vae.save(RUN_FOLDER)\n",
    "else:\n",
    "    vae.load_weights(os.path.join(RUN_FOLDER, 'weights/weights.h5'))"
   ]
  },
  {
   "cell_type": "code",
   "execution_count": 100,
   "metadata": {},
   "outputs": [],
   "source": [
    "#Compile Parameters\n",
    "\n",
    "LEARNING_RATE = 1e-3\n",
    "R_LOSS_FACTOR = 1\n",
    "BETA = 1e-4"
   ]
  },
  {
   "cell_type": "code",
   "execution_count": 101,
   "metadata": {},
   "outputs": [],
   "source": [
    "vae.compile(LEARNING_RATE, R_LOSS_FACTOR, BETA)"
   ]
  },
  {
   "cell_type": "code",
   "execution_count": 102,
   "metadata": {},
   "outputs": [],
   "source": [
    "# Training Parameters\n",
    "\n",
    "BATCH_SIZE = 256\n",
    "EPOCHS = 20\n",
    "PRINT_EVERY_N_BATCHES = 100\n",
    "INITIAL_EPOCH = 0"
   ]
  },
  {
   "cell_type": "code",
   "execution_count": 103,
   "metadata": {
    "scrolled": true
   },
   "outputs": [
    {
     "name": "stdout",
     "output_type": "stream",
     "text": [
      "Epoch 1/20\n",
      " - 5s - loss: 0.0664 - vae_r_loss: 0.0660 - vae_kl_loss: 4.4028\n",
      "\n",
      "Epoch 00001: saving model to run/bvae/0001_1_qubit_4/weights/weights-001-0.07.h5\n",
      "\n",
      "Epoch 00001: saving model to run/bvae/0001_1_qubit_4/weights/weights.h5\n",
      "Epoch 2/20\n",
      " - 3s - loss: 0.0351 - vae_r_loss: 0.0341 - vae_kl_loss: 9.4113\n",
      "\n",
      "Epoch 00002: saving model to run/bvae/0001_1_qubit_4/weights/weights-002-0.04.h5\n",
      "\n",
      "Epoch 00002: saving model to run/bvae/0001_1_qubit_4/weights/weights.h5\n",
      "Epoch 3/20\n",
      " - 3s - loss: 0.0319 - vae_r_loss: 0.0311 - vae_kl_loss: 8.6664\n",
      "\n",
      "Epoch 00003: saving model to run/bvae/0001_1_qubit_4/weights/weights-003-0.03.h5\n",
      "\n",
      "Epoch 00003: saving model to run/bvae/0001_1_qubit_4/weights/weights.h5\n",
      "Epoch 4/20\n",
      " - 3s - loss: 0.0279 - vae_r_loss: 0.0270 - vae_kl_loss: 9.4412\n",
      "\n",
      "Epoch 00004: saving model to run/bvae/0001_1_qubit_4/weights/weights-004-0.03.h5\n",
      "\n",
      "Epoch 00004: saving model to run/bvae/0001_1_qubit_4/weights/weights.h5\n",
      "Epoch 5/20\n",
      " - 3s - loss: 0.0086 - vae_r_loss: 0.0076 - vae_kl_loss: 10.2185\n",
      "\n",
      "Epoch 00005: saving model to run/bvae/0001_1_qubit_4/weights/weights-005-0.01.h5\n",
      "\n",
      "Epoch 00005: saving model to run/bvae/0001_1_qubit_4/weights/weights.h5\n",
      "Epoch 6/20\n",
      " - 3s - loss: 0.0027 - vae_r_loss: 0.0016 - vae_kl_loss: 10.7927\n",
      "\n",
      "Epoch 00006: saving model to run/bvae/0001_1_qubit_4/weights/weights-006-0.00.h5\n",
      "\n",
      "Epoch 00006: saving model to run/bvae/0001_1_qubit_4/weights/weights.h5\n",
      "Epoch 7/20\n",
      " - 3s - loss: 0.0021 - vae_r_loss: 0.0010 - vae_kl_loss: 10.7346\n",
      "\n",
      "Epoch 00007: saving model to run/bvae/0001_1_qubit_4/weights/weights-007-0.00.h5\n",
      "\n",
      "Epoch 00007: saving model to run/bvae/0001_1_qubit_4/weights/weights.h5\n",
      "Epoch 8/20\n",
      " - 3s - loss: 0.0019 - vae_r_loss: 8.0397e-04 - vae_kl_loss: 10.6249\n",
      "\n",
      "Epoch 00008: saving model to run/bvae/0001_1_qubit_4/weights/weights-008-0.00.h5\n",
      "\n",
      "Epoch 00008: saving model to run/bvae/0001_1_qubit_4/weights/weights.h5\n",
      "Epoch 9/20\n",
      " - 3s - loss: 0.0018 - vae_r_loss: 7.5829e-04 - vae_kl_loss: 10.4357\n",
      "\n",
      "Epoch 00009: saving model to run/bvae/0001_1_qubit_4/weights/weights-009-0.00.h5\n",
      "\n",
      "Epoch 00009: saving model to run/bvae/0001_1_qubit_4/weights/weights.h5\n",
      "Epoch 10/20\n",
      " - 3s - loss: 0.0017 - vae_r_loss: 6.5391e-04 - vae_kl_loss: 10.3927\n",
      "\n",
      "Epoch 00010: saving model to run/bvae/0001_1_qubit_4/weights/weights-010-0.00.h5\n",
      "\n",
      "Epoch 00010: saving model to run/bvae/0001_1_qubit_4/weights/weights.h5\n",
      "Epoch 11/20\n",
      " - 3s - loss: 0.0017 - vae_r_loss: 6.9554e-04 - vae_kl_loss: 10.1347\n",
      "\n",
      "Epoch 00011: saving model to run/bvae/0001_1_qubit_4/weights/weights-011-0.00.h5\n",
      "\n",
      "Epoch 00011: saving model to run/bvae/0001_1_qubit_4/weights/weights.h5\n",
      "Epoch 12/20\n",
      " - 3s - loss: 0.0017 - vae_r_loss: 6.8816e-04 - vae_kl_loss: 10.0413\n",
      "\n",
      "Epoch 00012: saving model to run/bvae/0001_1_qubit_4/weights/weights-012-0.00.h5\n",
      "\n",
      "Epoch 00012: saving model to run/bvae/0001_1_qubit_4/weights/weights.h5\n",
      "Epoch 13/20\n",
      " - 3s - loss: 0.0017 - vae_r_loss: 7.3876e-04 - vae_kl_loss: 9.7417\n",
      "\n",
      "Epoch 00013: saving model to run/bvae/0001_1_qubit_4/weights/weights-013-0.00.h5\n",
      "\n",
      "Epoch 00013: saving model to run/bvae/0001_1_qubit_4/weights/weights.h5\n",
      "Epoch 14/20\n",
      " - 3s - loss: 0.0018 - vae_r_loss: 8.3941e-04 - vae_kl_loss: 9.5983\n",
      "\n",
      "Epoch 00014: saving model to run/bvae/0001_1_qubit_4/weights/weights-014-0.00.h5\n",
      "\n",
      "Epoch 00014: saving model to run/bvae/0001_1_qubit_4/weights/weights.h5\n",
      "Epoch 15/20\n",
      " - 3s - loss: 0.0014 - vae_r_loss: 4.3478e-04 - vae_kl_loss: 9.5282\n",
      "\n",
      "Epoch 00015: saving model to run/bvae/0001_1_qubit_4/weights/weights-015-0.00.h5\n",
      "\n",
      "Epoch 00015: saving model to run/bvae/0001_1_qubit_4/weights/weights.h5\n",
      "Epoch 16/20\n",
      " - 3s - loss: 0.0014 - vae_r_loss: 4.3384e-04 - vae_kl_loss: 9.4440\n",
      "\n",
      "Epoch 00016: saving model to run/bvae/0001_1_qubit_4/weights/weights-016-0.00.h5\n",
      "\n",
      "Epoch 00016: saving model to run/bvae/0001_1_qubit_4/weights/weights.h5\n",
      "Epoch 17/20\n",
      " - 3s - loss: 0.0013 - vae_r_loss: 3.8439e-04 - vae_kl_loss: 9.4065\n",
      "\n",
      "Epoch 00017: saving model to run/bvae/0001_1_qubit_4/weights/weights-017-0.00.h5\n",
      "\n",
      "Epoch 00017: saving model to run/bvae/0001_1_qubit_4/weights/weights.h5\n",
      "Epoch 18/20\n",
      " - 3s - loss: 0.0014 - vae_r_loss: 4.8287e-04 - vae_kl_loss: 9.3449\n",
      "\n",
      "Epoch 00018: saving model to run/bvae/0001_1_qubit_4/weights/weights-018-0.00.h5\n",
      "\n",
      "Epoch 00018: saving model to run/bvae/0001_1_qubit_4/weights/weights.h5\n",
      "Epoch 19/20\n",
      " - 3s - loss: 0.0014 - vae_r_loss: 4.5776e-04 - vae_kl_loss: 9.3050\n",
      "\n",
      "Epoch 00019: saving model to run/bvae/0001_1_qubit_4/weights/weights-019-0.00.h5\n",
      "\n",
      "Epoch 00019: saving model to run/bvae/0001_1_qubit_4/weights/weights.h5\n",
      "Epoch 20/20\n",
      " - 3s - loss: 0.0013 - vae_r_loss: 3.9220e-04 - vae_kl_loss: 9.2376\n",
      "\n",
      "Epoch 00020: saving model to run/bvae/0001_1_qubit_4/weights/weights-020-0.00.h5\n",
      "\n",
      "Epoch 00020: saving model to run/bvae/0001_1_qubit_4/weights/weights.h5\n"
     ]
    }
   ],
   "source": [
    "vae.train(     \n",
    "      [training_data[0],training_data[1]]\n",
    "    , training_data[2]\n",
    "    , batch_size = BATCH_SIZE\n",
    "    , epochs = EPOCHS\n",
    "    , run_folder = RUN_FOLDER\n",
    "    , print_every_n_batches = PRINT_EVERY_N_BATCHES\n",
    "    , initial_epoch = INITIAL_EPOCH\n",
    ")"
   ]
  },
  {
   "cell_type": "code",
   "execution_count": 79,
   "metadata": {
    "scrolled": true
   },
   "outputs": [
    {
     "name": "stdout",
     "output_type": "stream",
     "text": [
      "500/500 [==============================] - 0s 184us/step\n"
     ]
    },
    {
     "data": {
      "text/plain": [
       "0.21650654579105613"
      ]
     },
     "execution_count": 79,
     "metadata": {},
     "output_type": "execute_result"
    }
   ],
   "source": [
    "#ZDIM = 1\n",
    "np.sqrt(vae.model.evaluate([validation_data[0],validation_data[1]], validation_data[2])[0])"
   ]
  },
  {
   "cell_type": "code",
   "execution_count": 88,
   "metadata": {},
   "outputs": [
    {
     "name": "stdout",
     "output_type": "stream",
     "text": [
      "500/500 [==============================] - 0s 982us/step\n"
     ]
    },
    {
     "data": {
      "text/plain": [
       "0.055012486343307875"
      ]
     },
     "execution_count": 88,
     "metadata": {},
     "output_type": "execute_result"
    }
   ],
   "source": [
    "#ZDIM = 2\n",
    "np.sqrt(vae.model.evaluate([validation_data[0],validation_data[1]], validation_data[2])[0])"
   ]
  },
  {
   "cell_type": "code",
   "execution_count": 96,
   "metadata": {},
   "outputs": [
    {
     "name": "stdout",
     "output_type": "stream",
     "text": [
      "500/500 [==============================] - 1s 1ms/step\n"
     ]
    },
    {
     "data": {
      "text/plain": [
       "0.03888569131401101"
      ]
     },
     "execution_count": 96,
     "metadata": {},
     "output_type": "execute_result"
    }
   ],
   "source": [
    "#ZDIM = 3\n",
    "np.sqrt(vae.model.evaluate([validation_data[0],validation_data[1]], validation_data[2])[0])"
   ]
  },
  {
   "cell_type": "code",
   "execution_count": 104,
   "metadata": {},
   "outputs": [
    {
     "name": "stdout",
     "output_type": "stream",
     "text": [
      "500/500 [==============================] - 1s 1ms/step\n"
     ]
    },
    {
     "data": {
      "text/plain": [
       "0.03669935256868645"
      ]
     },
     "execution_count": 104,
     "metadata": {},
     "output_type": "execute_result"
    }
   ],
   "source": [
    "#ZDIM = 4\n",
    "np.sqrt(vae.model.evaluate([validation_data[0],validation_data[1]], validation_data[2])[0])"
   ]
  },
  {
   "cell_type": "code",
   "execution_count": 106,
   "metadata": {},
   "outputs": [
    {
     "data": {
      "image/png": "[encoded data removed]",
      "text/plain": [
       "<Figure size 432x288 with 1 Axes>"
      ]
     },
     "metadata": {
      "needs_background": "light"
     },
     "output_type": "display_data"
    }
   ],
   "source": [
    "plt.title('1 Qubit');\n",
    "plt.xlabel('Number of Latent Neurons');\n",
    "plt.ylabel('Squared Loss');\n",
    "plt.plot([1,2,3,4],[0.216,0.055,0.038,0.0366]);"
   ]
  }
 ],
 "metadata": {
  "kernelspec": {
   "display_name": "generative",
   "language": "python",
   "name": "generative"
  },
  "language_info": {
   "codemirror_mode": {
    "name": "ipython",
    "version": 3
   },
   "file_extension": ".py",
   "mimetype": "text/x-python",
   "name": "python",
   "nbconvert_exporter": "python",
   "pygments_lexer": "ipython3",
   "version": "3.6.7"
  },
  "toc": {
   "base_numbering": 1,
   "nav_menu": {},
   "number_sections": true,
   "sideBar": true,
   "skip_h1_title": false,
   "title_cell": "Table of Contents",
   "title_sidebar": "Contents",
   "toc_cell": true,
   "toc_position": {},
   "toc_section_display": true,
   "toc_window_display": false
  }
 },
 "nbformat": 4,
 "nbformat_minor": 2
}
