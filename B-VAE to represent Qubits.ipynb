{
 "cells": [
  {
   "cell_type": "markdown",
   "metadata": {
    "toc": true
   },
   "source": [
    "<h1>Table of Contents<span class=\"tocSkip\"></span></h1>\n",
    "<div class=\"toc\"><ul class=\"toc-item\"><li><span><a href=\"#Qubit-example\" data-toc-modified-id=\"Qubit-example-1\"><span class=\"toc-item-num\">1&nbsp;&nbsp;</span>Qubit example</a></span></li><li><span><a href=\"#Generating-Data\" data-toc-modified-id=\"Generating-Data-2\"><span class=\"toc-item-num\">2&nbsp;&nbsp;</span>Generating Data</a></span></li><li><span><a href=\"#Creating-the-Model\" data-toc-modified-id=\"Creating-the-Model-3\"><span class=\"toc-item-num\">3&nbsp;&nbsp;</span>Creating the Model</a></span></li><li><span><a href=\"#Examples\" data-toc-modified-id=\"Examples-4\"><span class=\"toc-item-num\">4&nbsp;&nbsp;</span>Examples</a></span><ul class=\"toc-item\"><li><span><a href=\"#1-Qubit\" data-toc-modified-id=\"1-Qubit-4.1\"><span class=\"toc-item-num\">4.1&nbsp;&nbsp;</span>1 Qubit</a></span></li><li><span><a href=\"#2-Qubits\" data-toc-modified-id=\"2-Qubits-4.2\"><span class=\"toc-item-num\">4.2&nbsp;&nbsp;</span>2 Qubits</a></span></li></ul></li></ul></div>"
   ]
  },
  {
   "cell_type": "markdown",
   "metadata": {},
   "source": [
    "# Qubit example\n",
    "\n",
    "Here we reproduce the result of tomography qubits from the [Iten and Metger et al. paper](https://arxiv.org/abs/1807.10300)."
   ]
  },
  {
   "cell_type": "code",
   "execution_count": 1,
   "metadata": {},
   "outputs": [],
   "source": [
    "%load_ext autoreload\n",
    "%autoreload 2"
   ]
  },
  {
   "cell_type": "code",
   "execution_count": 22,
   "metadata": {},
   "outputs": [],
   "source": [
    "import warnings\n",
    "warnings.simplefilter(action='ignore', category=FutureWarning)\n",
    "\n",
    "import os \n",
    "\n",
    "from Models.VAE_Keras import Scinet_VariationalAutoencoder_Keras\n",
    "\n",
    "import numpy as np\n",
    "import matplotlib.pyplot as plt"
   ]
  },
  {
   "cell_type": "markdown",
   "metadata": {},
   "source": [
    "# Generating Data\n",
    "\n",
    "Data generation taken from [this github repository](https://github.com/eth-nn-physics/nn_physical_concepts)"
   ]
  },
  {
   "cell_type": "code",
   "execution_count": 16,
   "metadata": {},
   "outputs": [],
   "source": [
    "from scipy.stats import unitary_group\n",
    "\n",
    "def random_state(qubit_num):\n",
    "    return unitary_group.rvs(2**qubit_num)[:, 0]\n",
    "\n",
    "\n",
    "def random_subspace_states(qubit_num, k, states_num):\n",
    "    \"\"\"\n",
    "    qubit_num: number of qubits\n",
    "    k: number of orthogonal basis vectors\n",
    "    states_num: number of states randomly sampled from subspace\n",
    "    \"\"\"\n",
    "\n",
    "    assert(2 * 2**qubit_num > k)\n",
    "    output_states = []\n",
    "    subspace_basis = (unitary_group.rvs(2**qubit_num)[:, :k]).T\n",
    "    for _ in range(states_num):\n",
    "        c = np.random.rand(k) - 0.5\n",
    "        linear_combination = 0.j\n",
    "        for i in range(k):\n",
    "            linear_combination += c[i] * subspace_basis[i]\n",
    "        output_states.append(linear_combination / np.linalg.norm(linear_combination))\n",
    "    return output_states\n",
    "\n",
    "\n",
    "def projection(a, b):\n",
    "    return np.abs(np.dot(np.conj(a), b))**2\n",
    "\n",
    "\n",
    "def create_data(qubit_num, measurement_num1, measurement_num2, sample_num, file_name=None, incomplete_tomography=[False, False]):\n",
    "    \"\"\"\n",
    "    ----------------------------------------------------------------------------\n",
    "    Params:\n",
    "    qubit_num: number of qubits\n",
    "    measurement_num1: number of projective measurements to be performed on input qubit\n",
    "    measurement_num2: number of projective measurements to be performed on projection axis\n",
    "    sample_num: number of training examples to be generated\n",
    "    file_name: file is stored in /data/file_name.pkl.gz\n",
    "    incomplete_tomography: if the i-th entry is k, then the states for the projectors M_i \n",
    "                           are sampled from a k-dimensional real subspace\n",
    "    \"\"\"\n",
    "    states_in1 = np.empty([sample_num, 2**qubit_num], dtype=np.complex_)\n",
    "    states_in2 = np.empty([sample_num, 2**qubit_num], dtype=np.complex_)\n",
    "    meas_res1 = np.empty([sample_num, measurement_num1], dtype=np.float_)\n",
    "    meas_res2 = np.empty([sample_num, measurement_num2], dtype=np.float_)\n",
    "    output = np.empty([sample_num, 1])\n",
    "    if incomplete_tomography[0]:\n",
    "        fixed_states_in1 = random_subspace_states(qubit_num, incomplete_tomography[0], measurement_num1)\n",
    "    else:\n",
    "        fixed_states_in1 = [random_state(qubit_num) for _ in range(measurement_num1)]\n",
    "        \n",
    "    if incomplete_tomography[1]:\n",
    "        fixed_states_in2 = random_subspace_states(qubit_num, incomplete_tomography[1], measurement_num2)\n",
    "        \n",
    "    else:\n",
    "        fixed_states_in2 = [random_state(qubit_num) for _ in range(measurement_num2)]\n",
    "    for i in range(sample_num):\n",
    "        states_in1[i] = random_state(qubit_num)\n",
    "        states_in2[i] = random_state(qubit_num)\n",
    "        meas_res1[i] = np.array([projection(s1, states_in1[i]) for s1 in fixed_states_in1])\n",
    "        meas_res2[i] = np.array([projection(s2, states_in2[i]) for s2 in fixed_states_in2])\n",
    "        output[i, 0] = projection(states_in1[i], states_in2[i])\n",
    "    result = ([meas_res1, meas_res2, output], [states_in1, states_in2], [fixed_states_in1, fixed_states_in2])\n",
    "\n",
    "    return result"
   ]
  },
  {
   "cell_type": "markdown",
   "metadata": {},
   "source": [
    "# Creating the Model"
   ]
  },
  {
   "cell_type": "code",
   "execution_count": 134,
   "metadata": {},
   "outputs": [],
   "source": [
    "def Reconstruc_Qubits(ZDIM, ipdim, qdim, LR=1e-3, B=1e-4):\n",
    "    \"\"\"Returns the Root of the B-VAE \n",
    "    Loss function\n",
    "    \n",
    "    Parameters\n",
    "    ----------------------------------------\n",
    "    ZDIM(int): Dimension of the latent space\n",
    "    ipdim(int): Input dimension.\n",
    "    1dim(int): Latent dimension.\n",
    "    LR(float): Learning Rate. (default=1e-3)\n",
    "    B(float): Beta parameter. (default=1e-4)\n",
    "    \n",
    "    \"\"\"\n",
    "    \n",
    "    \n",
    "    # run params\n",
    "    SECTION = 'bvae'\n",
    "    RUN_ID = '0001'\n",
    "    DATA_NAME = '{}_qubit_{}'.format(qubit_n,ZDIM)\n",
    "    RUN_FOLDER = 'run/{}/'.format(SECTION)\n",
    "    RUN_FOLDER += '_'.join([RUN_ID, DATA_NAME])\n",
    "    \n",
    "    if not os.path.exists(RUN_FOLDER):\n",
    "        os.makedirs(RUN_FOLDER)\n",
    "        os.mkdir(os.path.join(RUN_FOLDER, 'viz'))\n",
    "        os.mkdir(os.path.join(RUN_FOLDER, 'images'))\n",
    "        os.mkdir(os.path.join(RUN_FOLDER, 'weights'))\n",
    "    \n",
    "    mode =  'build'\n",
    "    \n",
    "    vae = Scinet_VariationalAutoencoder_Keras(\n",
    "    input_dim = (ipdim,)\n",
    "        , encoder_dense_units = [1024,512,256,128]\n",
    "        , decoder_dense_units = [128,256,512,1024,1]\n",
    "        , z_dim = ZDIM\n",
    "        , q_dim = (qdim,)\n",
    "    )\n",
    "    \n",
    "    if mode == 'build':\n",
    "        vae.save(RUN_FOLDER)\n",
    "    else:\n",
    "        vae.load_weights(os.path.join(RUN_FOLDER, 'weights/weights.h5'))\n",
    "        \n",
    "    #Compile Parameters\n",
    "    \n",
    "    LEARNING_RATE = LR\n",
    "    R_LOSS_FACTOR = 1\n",
    "    BETA = B\n",
    "    \n",
    "    vae.compile(LEARNING_RATE, R_LOSS_FACTOR, BETA)\n",
    "    \n",
    "    # Training Parameters\n",
    "    \n",
    "    BATCH_SIZE = 256\n",
    "    EPOCHS = 20\n",
    "    PRINT_EVERY_N_BATCHES = 100\n",
    "    INITIAL_EPOCH = 0\n",
    "    \n",
    "    vae.train(     \n",
    "              [training_data[0],training_data[1]]\n",
    "            , training_data[2]\n",
    "            , batch_size = BATCH_SIZE\n",
    "            , epochs = EPOCHS\n",
    "            , run_folder = RUN_FOLDER\n",
    "            , print_every_n_batches = PRINT_EVERY_N_BATCHES\n",
    "            , initial_epoch = INITIAL_EPOCH\n",
    "            , verbose=0\n",
    "             )\n",
    "    \n",
    "    return np.sqrt(vae.model.evaluate([validation_data[0],validation_data[1]], validation_data[2])[0])"
   ]
  },
  {
   "cell_type": "markdown",
   "metadata": {},
   "source": [
    "# Examples"
   ]
  },
  {
   "cell_type": "markdown",
   "metadata": {},
   "source": [
    "## 1 Qubit"
   ]
  },
  {
   "cell_type": "code",
   "execution_count": 17,
   "metadata": {},
   "outputs": [],
   "source": [
    "#simulation parameters\n",
    "qubit_n = 1\n",
    "meas_num1 = 10\n",
    "meas_num2 = 10\n",
    "samples = 10000\n",
    "\n",
    "validation_size_p = 5 # % of validation set"
   ]
  },
  {
   "cell_type": "code",
   "execution_count": 18,
   "metadata": {
    "code_folding": []
   },
   "outputs": [],
   "source": [
    "%timeit\n",
    "data, states, params = create_data(qubit_num=qubit_n, \n",
    "                                measurement_num1=meas_num1, \n",
    "                                measurement_num2=meas_num2, \n",
    "                                sample_num=samples, \n",
    "                                )"
   ]
  },
  {
   "cell_type": "code",
   "execution_count": 19,
   "metadata": {
    "cell_style": "center"
   },
   "outputs": [],
   "source": [
    "states = np.array(states)\n",
    "train_val_separation = int(len(data[0]) * (1 - validation_size_p / 100.))\n",
    "training_data = [data[i][:train_val_separation] for i in [0, 1, 2]]\n",
    "training_states = states[:train_val_separation]\n",
    "validation_data = [data[i][train_val_separation:] for i in [0, 1, 2]]\n",
    "validation_states = states[train_val_separation:]"
   ]
  },
  {
   "cell_type": "code",
   "execution_count": null,
   "metadata": {
    "scrolled": true
   },
   "outputs": [],
   "source": [
    "ZDIM_MAX = 5\n",
    "LOSS = []\n",
    "for i in np.arange(1,ZDIM_MAX,1):\n",
    "    print(\"Latent Dimension: {}\".format(i))\n",
    "    LOSS.append(Reconstruc_Qubits(i,meas_num1,meas_num2))"
   ]
  },
  {
   "cell_type": "code",
   "execution_count": 120,
   "metadata": {},
   "outputs": [
    {
     "data": {
      "image/png": "[encoded data removed]",
      "text/plain": [
       "<Figure size 432x288 with 1 Axes>"
      ]
     },
     "metadata": {
      "needs_background": "light"
     },
     "output_type": "display_data"
    }
   ],
   "source": [
    "plt.title('1 Qubit');\n",
    "plt.xlabel('Number of Latent Neurons');\n",
    "plt.ylabel('Root Loss');\n",
    "plt.plot(np.arange(1,ZDIM_MAX,1),LOSS, 'o');"
   ]
  },
  {
   "cell_type": "markdown",
   "metadata": {},
   "source": [
    "## 2 Qubits"
   ]
  },
  {
   "cell_type": "code",
   "execution_count": 128,
   "metadata": {},
   "outputs": [],
   "source": [
    "#simulation parameters\n",
    "qubit_n = 2\n",
    "meas_num1 = 30\n",
    "meas_num2 = 30\n",
    "samples = 10000\n",
    "\n",
    "validation_size_p = 5 # % of validation set"
   ]
  },
  {
   "cell_type": "code",
   "execution_count": 129,
   "metadata": {
    "code_folding": []
   },
   "outputs": [],
   "source": [
    "data, states, params = create_data(qubit_num=qubit_n, \n",
    "                                measurement_num1=meas_num1, \n",
    "                                measurement_num2=meas_num2, \n",
    "                                sample_num=samples, \n",
    "                                )"
   ]
  },
  {
   "cell_type": "code",
   "execution_count": 130,
   "metadata": {
    "cell_style": "center"
   },
   "outputs": [],
   "source": [
    "states = np.array(states)\n",
    "train_val_separation = int(len(data[0]) * (1 - validation_size_p / 100.))\n",
    "training_data = [data[i][:train_val_separation] for i in [0, 1, 2]]\n",
    "training_states = states[:train_val_separation]\n",
    "validation_data = [data[i][train_val_separation:] for i in [0, 1, 2]]\n",
    "validation_states = states[train_val_separation:]"
   ]
  },
  {
   "cell_type": "code",
   "execution_count": null,
   "metadata": {
    "scrolled": true
   },
   "outputs": [],
   "source": [
    "ZDIM_MAX = 10\n",
    "LOSS = []\n",
    "for i in np.arange(1,ZDIM_MAX,1):\n",
    "    print(\"Latent Dimension: {}\".format(i))\n",
    "    LOSS.append(Reconstruc_Qubits(i,meas_num1,meas_num2))"
   ]
  },
  {
   "cell_type": "code",
   "execution_count": 137,
   "metadata": {},
   "outputs": [
    {
     "data": {
      "image/png": "[encoded data removed]",
      "text/plain": [
       "<Figure size 432x288 with 1 Axes>"
      ]
     },
     "metadata": {
      "needs_background": "light"
     },
     "output_type": "display_data"
    }
   ],
   "source": [
    "plt.title('2 Qubits');\n",
    "plt.xlabel('Number of Latent Neurons');\n",
    "plt.ylabel('Root Loss');\n",
    "plt.plot(np.arange(1,ZDIM_MAX,1),LOSS, 'o');"
   ]
  }
 ],
 "metadata": {
  "kernelspec": {
   "display_name": "generative",
   "language": "python",
   "name": "generative"
  },
  "language_info": {
   "codemirror_mode": {
    "name": "ipython",
    "version": 3
   },
   "file_extension": ".py",
   "mimetype": "text/x-python",
   "name": "python",
   "nbconvert_exporter": "python",
   "pygments_lexer": "ipython3",
   "version": "3.6.7"
  },
  "toc": {
   "base_numbering": 1,
   "nav_menu": {},
   "number_sections": true,
   "sideBar": true,
   "skip_h1_title": false,
   "title_cell": "Table of Contents",
   "title_sidebar": "Contents",
   "toc_cell": true,
   "toc_position": {},
   "toc_section_display": true,
   "toc_window_display": false
  }
 },
 "nbformat": 4,
 "nbformat_minor": 2
}
