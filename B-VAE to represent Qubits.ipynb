{
 "cells": [
  {
   "cell_type": "markdown",
   "metadata": {
    "toc": true
   },
   "source": [
    "<h1>Table of Contents<span class=\"tocSkip\"></span></h1>\n",
    "<div class=\"toc\"><ul class=\"toc-item\"><li><span><a href=\"#Qubit-example\" data-toc-modified-id=\"Qubit-example-1\"><span class=\"toc-item-num\">1&nbsp;&nbsp;</span>Qubit example</a></span></li><li><span><a href=\"#Generating-Data\" data-toc-modified-id=\"Generating-Data-2\"><span class=\"toc-item-num\">2&nbsp;&nbsp;</span>Generating Data</a></span></li><li><span><a href=\"#Creating-the-$\\beta$-VAE\" data-toc-modified-id=\"Creating-the-$\\beta$-VAE-3\"><span class=\"toc-item-num\">3&nbsp;&nbsp;</span>Creating the $\\beta$-VAE</a></span></li></ul></div>"
   ]
  },
  {
   "cell_type": "markdown",
   "metadata": {},
   "source": [
    "# Qubit example\n",
    "\n",
    "Here we reproduce the result of tomography qubits from the [Iten and Metger et al. paper](https://arxiv.org/abs/1807.10300)."
   ]
  },
  {
   "cell_type": "code",
   "execution_count": 23,
   "metadata": {},
   "outputs": [],
   "source": [
    "%load_ext autoreload\n",
    "%autoreload 2\n",
    "import warnings\n",
    "warnings.simplefilter(action='ignore', category=FutureWarning)\n",
    "\n",
    "import os \n",
    "\n",
    "from Models.VAE_Keras import Dense_VariationalAutoencoder_Keras\n",
    "\n",
    "import numpy as np\n",
    "import matplotlib.pyplot as plt"
   ]
  },
  {
   "cell_type": "markdown",
   "metadata": {},
   "source": [
    "# Generating Data\n",
    "\n",
    "Data generation taken from [this github repository](https://github.com/eth-nn-physics/nn_physical_concepts)"
   ]
  },
  {
   "cell_type": "code",
   "execution_count": 24,
   "metadata": {},
   "outputs": [],
   "source": [
    "from scipy.stats import unitary_group\n",
    "\n",
    "def random_state(qubit_num):\n",
    "    return unitary_group.rvs(2**qubit_num)[:, 0]\n",
    "\n",
    "\n",
    "def random_subspace_states(qubit_num, k, states_num):\n",
    "    \"\"\"\n",
    "    qubit_num: number of qubits\n",
    "    k: number of orthogonal basis vectors\n",
    "    states_num: number of states randomly sampled from subspace\n",
    "    \"\"\"\n",
    "\n",
    "    assert(2 * 2**qubit_num > k)\n",
    "    output_states = []\n",
    "    subspace_basis = (unitary_group.rvs(2**qubit_num)[:, :k]).T\n",
    "    for _ in range(states_num):\n",
    "        c = np.random.rand(k) - 0.5\n",
    "        linear_combination = 0.j\n",
    "        for i in range(k):\n",
    "            linear_combination += c[i] * subspace_basis[i]\n",
    "        output_states.append(linear_combination / np.linalg.norm(linear_combination))\n",
    "    return output_states\n",
    "\n",
    "\n",
    "def projection(a, b):\n",
    "    return np.abs(np.dot(np.conj(a), b))**2\n",
    "\n",
    "\n",
    "def create_data(qubit_num, measurement_num1, measurement_num2, sample_num, file_name=None, incomplete_tomography=[False, False]):\n",
    "    \"\"\"\n",
    "    Params:\n",
    "    qubit_num: number of qubits\n",
    "    measurement_num1: number of projective measurements to be performed on input qubit\n",
    "    measurement_num2: number of projective measurements to be performed on projection axis\n",
    "    sample_num: number of training examples to be generated\n",
    "    file_name: file is stored in /data/file_name.pkl.gz\n",
    "    incomplete_tomography: if the i-th entry is k, then the states for the projectors M_i are sampled from a k-dimensional real subspace\n",
    "    \"\"\"\n",
    "    states_in1 = np.empty([sample_num, 2**qubit_num], dtype=np.complex_)\n",
    "    states_in2 = np.empty([sample_num, 2**qubit_num], dtype=np.complex_)\n",
    "    meas_res1 = np.empty([sample_num, measurement_num1], dtype=np.float_)\n",
    "    meas_res2 = np.empty([sample_num, measurement_num2], dtype=np.float_)\n",
    "    output = np.empty([sample_num, 1])\n",
    "    if incomplete_tomography[0]:\n",
    "        fixed_states_in1 = random_subspace_states(qubit_num, incomplete_tomography[0], measurement_num1)\n",
    "    else:\n",
    "        fixed_states_in1 = [random_state(qubit_num) for _ in range(measurement_num1)]\n",
    "        \n",
    "    if incomplete_tomography[1]:\n",
    "        fixed_states_in2 = random_subspace_states(qubit_num, incomplete_tomography[1], measurement_num2)\n",
    "        \n",
    "    else:\n",
    "        fixed_states_in2 = [random_state(qubit_num) for _ in range(measurement_num2)]\n",
    "    for i in range(sample_num):\n",
    "        states_in1[i] = random_state(qubit_num)\n",
    "        states_in2[i] = random_state(qubit_num)\n",
    "        meas_res1[i] = np.array([projection(s1, states_in1[i]) for s1 in fixed_states_in1])\n",
    "        meas_res2[i] = np.array([projection(s2, states_in2[i]) for s2 in fixed_states_in2])\n",
    "        output[i, 0] = projection(states_in1[i], states_in2[i])\n",
    "    result = ([meas_res1, meas_res2, output], [states_in1, states_in2], [fixed_states_in1, fixed_states_in2])\n",
    "    #if file_name is not None:\n",
    "    #    f = gzip.open(io_paths.data_path + file_name + \".plk.gz\", 'wb')\n",
    "    #    cPickle.dump(result, f, protocol=2)\n",
    "    #    f.close()\n",
    "    return result"
   ]
  },
  {
   "cell_type": "code",
   "execution_count": 27,
   "metadata": {},
   "outputs": [],
   "source": [
    "#simulation parameters\n",
    "qubit_n = 1\n",
    "meas_num1 = 10\n",
    "meas_num2 = 10\n",
    "samples = 10000\n",
    "\n",
    "validation_size_p = 5 # % of validation set"
   ]
  },
  {
   "cell_type": "code",
   "execution_count": 28,
   "metadata": {
    "code_folding": []
   },
   "outputs": [
    {
     "name": "stdout",
     "output_type": "stream",
     "text": [
      "6.74 s ± 410 ms per loop (mean ± std. dev. of 7 runs, 1 loop each)\n"
     ]
    }
   ],
   "source": [
    "%timeit\n",
    "data, states, params = create_data(qubit_num=qubit_n, \n",
    "                                measurement_num1=meas_num1, \n",
    "                                measurement_num2=meas_num2, \n",
    "                                sample_num=samples, \n",
    "                                )"
   ]
  },
  {
   "cell_type": "code",
   "execution_count": 29,
   "metadata": {
    "cell_style": "center"
   },
   "outputs": [],
   "source": [
    "states = np.array(states)\n",
    "train_val_separation = int(len(data[0]) * (1 - validation_size_p / 100.))\n",
    "training_data = [data[i][:train_val_separation] for i in [0, 1, 2]]\n",
    "training_states = states[:train_val_separation]\n",
    "validation_data = [data[i][train_val_separation:] for i in [0, 1, 2]]\n",
    "validation_states = states[train_val_separation:]"
   ]
  },
  {
   "cell_type": "code",
   "execution_count": 41,
   "metadata": {},
   "outputs": [
    {
     "data": {
      "text/plain": [
       "(95, 1)"
      ]
     },
     "execution_count": 41,
     "metadata": {},
     "output_type": "execute_result"
    }
   ],
   "source": [
    "training_data[2].shape"
   ]
  },
  {
   "cell_type": "markdown",
   "metadata": {},
   "source": [
    "# Creating the $\\beta$-VAE"
   ]
  },
  {
   "cell_type": "code",
   "execution_count": 7,
   "metadata": {},
   "outputs": [],
   "source": [
    "import os \n",
    "\n",
    "# run params\n",
    "SECTION = 'vae'\n",
    "RUN_ID = '0001'\n",
    "DATA_NAME = '1_qubit'\n",
    "RUN_FOLDER = 'run/{}/'.format(SECTION)\n",
    "RUN_FOLDER += '_'.join([RUN_ID, DATA_NAME])\n",
    "\n",
    "if not os.path.exists(RUN_FOLDER):\n",
    "    os.makedirs(RUN_FOLDER)\n",
    "    os.mkdir(os.path.join(RUN_FOLDER, 'viz'))\n",
    "    os.mkdir(os.path.join(RUN_FOLDER, 'images'))\n",
    "    os.mkdir(os.path.join(RUN_FOLDER, 'weights'))\n",
    "\n",
    "mode =  'build'"
   ]
  },
  {
   "cell_type": "code",
   "execution_count": 42,
   "metadata": {},
   "outputs": [],
   "source": [
    "vae = Dense_VariationalAutoencoder_Keras(\n",
    "    input_dim = (10,10)\n",
    "    , encoder_dense_units = [256,128]\n",
    "    , decoder_dense_units = [128,256,1]\n",
    "    , z_dim = 2\n",
    ")\n",
    "\n",
    "if mode == 'build':\n",
    "    vae.save(RUN_FOLDER)\n",
    "else:\n",
    "    vae.load_weights(os.path.join(RUN_FOLDER, 'weights/weights.h5'))"
   ]
  },
  {
   "cell_type": "code",
   "execution_count": 44,
   "metadata": {},
   "outputs": [
    {
     "name": "stdout",
     "output_type": "stream",
     "text": [
      "_________________________________________________________________\n",
      "Layer (type)                 Output Shape              Param #   \n",
      "=================================================================\n",
      "decoder_input (InputLayer)   (None, 2)                 0         \n",
      "_________________________________________________________________\n",
      "dense_5 (Dense)              (None, 1280)              3840      \n",
      "_________________________________________________________________\n",
      "reshape_5 (Reshape)          (None, 10, 128)           0         \n",
      "_________________________________________________________________\n",
      "decoder_dense_0 (Dense)      (None, 10, 128)           16512     \n",
      "_________________________________________________________________\n",
      "leaky_re_lu_21 (LeakyReLU)   (None, 10, 128)           0         \n",
      "_________________________________________________________________\n",
      "decoder_dense_1 (Dense)      (None, 10, 256)           33024     \n",
      "_________________________________________________________________\n",
      "leaky_re_lu_22 (LeakyReLU)   (None, 10, 256)           0         \n",
      "_________________________________________________________________\n",
      "decoder_dense_2 (Dense)      (None, 10, 1)             257       \n",
      "_________________________________________________________________\n",
      "activation_4 (Activation)    (None, 10, 1)             0         \n",
      "=================================================================\n",
      "Total params: 53,633\n",
      "Trainable params: 53,633\n",
      "Non-trainable params: 0\n",
      "_________________________________________________________________\n"
     ]
    }
   ],
   "source": [
    "vae.decoder.summary()"
   ]
  },
  {
   "cell_type": "code",
   "execution_count": null,
   "metadata": {},
   "outputs": [],
   "source": []
  }
 ],
 "metadata": {
  "kernelspec": {
   "display_name": "generative",
   "language": "python",
   "name": "generative"
  },
  "language_info": {
   "codemirror_mode": {
    "name": "ipython",
    "version": 3
   },
   "file_extension": ".py",
   "mimetype": "text/x-python",
   "name": "python",
   "nbconvert_exporter": "python",
   "pygments_lexer": "ipython3",
   "version": "3.6.7"
  },
  "toc": {
   "base_numbering": 1,
   "nav_menu": {},
   "number_sections": true,
   "sideBar": true,
   "skip_h1_title": false,
   "title_cell": "Table of Contents",
   "title_sidebar": "Contents",
   "toc_cell": true,
   "toc_position": {},
   "toc_section_display": true,
   "toc_window_display": false
  }
 },
 "nbformat": 4,
 "nbformat_minor": 2
}
