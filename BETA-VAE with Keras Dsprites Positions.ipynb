{
  "nbformat": 4,
  "nbformat_minor": 0,
  "metadata": {
    "orig_nbformat": 2,
    "file_extension": ".py",
    "mimetype": "text/x-python",
    "name": "python",
    "npconvert_exporter": "python",
    "pygments_lexer": "ipython3",
    "version": 3,
    "colab": {
      "name": "BETA-VAE with Keras Dsprites Positions.ipynb",
      "provenance": [],
      "collapsed_sections": []
    },
    "kernelspec": {
      "name": "python3",
      "display_name": "Python 3"
    },
    "accelerator": "GPU"
  },
  "cells": [
    {
      "cell_type": "markdown",
      "metadata": {
        "colab_type": "text",
        "id": "XfnOXDldDFQZ"
      },
      "source": [
        "# Beta Variational Autoencoder Using Keras data Dsprites\n",
        "\n",
        "The code is based on the book [Generative Deep Learning by David Foster](https://www.oreilly.com/library/view/generative-deep-learning/9781492041931/)."
      ]
    },
    {
      "cell_type": "markdown",
      "metadata": {
        "colab_type": "text",
        "id": "-wbMjNfMDFQe"
      },
      "source": [
        "## Data\n",
        "\n",
        "The data is taken from [Dsprites dataset](https://github.com/deepmind/dsprites-dataset). \n",
        "\n",
        "For loading the dataset we used this [notebook](https://github.com/deepmind/dsprites-dataset/blob/master/dsprites_reloading_example.ipynb).\n",
        "\n",
        "The datafiles are on the input folder."
      ]
    },
    {
      "cell_type": "code",
      "execution_count": 0,
      "metadata": {
        "colab": {},
        "colab_type": "code",
        "id": "tzNS-UIQDFQh"
      },
      "outputs": [],
      "source": [
        "from __future__ import absolute_import\n",
        "from __future__ import division\n",
        "from __future__ import print_function\n",
        "from __future__ import unicode_literals\n",
        "from matplotlib import pyplot as plt\n",
        "import numpy as np\n",
        "import seaborn as sns\n",
        "import os\n",
        "\n",
        "# Change figure aesthetics\n",
        "%matplotlib inline\n",
        "sns.set_context('paper', font_scale=1.2, rc={'lines.linewidth': 1.5})"
      ]
    },
    {
      "cell_type": "code",
      "execution_count": 4,
      "metadata": {
        "colab": {
          "base_uri": "https://localhost:8080/",
          "height": 34
        },
        "colab_type": "code",
        "id": "ouGwC2kADFQp",
        "outputId": "80c162e7-c020-435a-bafe-52e4d5c51b94"
      },
      "outputs": [
        {
          "name": "stdout",
          "output_type": "stream",
          "text": [
            "Keys in the dataset: KeysView(<numpy.lib.npyio.NpzFile object at 0x7fae4a97cc18>)\n"
          ]
        }
      ],
      "source": [
        "path = os.getcwd()\n",
        "dataset_zip = np.load(path+'/input/dsprites/dsprites_ndarray_co1sh3sc6or40x32y32_64x64.npz'\n",
        "                     ,encoding='bytes', allow_pickle=True)\n",
        "\n",
        "print('Keys in the dataset:', dataset_zip.keys())\n",
        "imgs = dataset_zip['imgs']\n",
        "latents_values = dataset_zip['latents_values']\n",
        "latents_classes = dataset_zip['latents_classes']\n",
        "metadata = dataset_zip['metadata'][()]\n"
      ]
    },
    {
      "cell_type": "markdown",
      "metadata": {
        "colab_type": "text",
        "id": "J2s-YkSoDFQw"
      },
      "source": [
        "### Description of the dataset\n",
        "\n",
        "From the metadata we have the description of the dataset and how it was generated:\n",
        "\n",
        "    'Disentanglement test Sprites dataset.Procedurally generated 2D shapes, from 6 disentangled latent factors.This dataset uses 6 latents, controlling the color, shape, scale, rotation and position of a sprite. All possible variations of the latents are present. Ordering along dimension 1 is fixed and can be mapped back to the exact latent values that generated that image.We made sure that the pixel outputs are different. No noise added.'\n",
        "\n",
        "The latent space size for generating the dataset is:\n",
        "\n",
        "    - 'latents_sizes': array([ 1,  3,  6, 40, 32, 32]), \n",
        "\n",
        "Each latent affect only one attribute of the figure, the atributes are:\n",
        "\n",
        "    - 'latents_names': ('color', 'shape', 'scale', 'orientation', 'posX', 'posY')\n",
        "    \n",
        "**Therefore, we have only one color, 3 shapes, 6 types of scales, 40 points regarding rotations, 32 points for the posX (or posY).**"
      ]
    },
    {
      "cell_type": "code",
      "execution_count": 0,
      "metadata": {
        "colab": {},
        "colab_type": "code",
        "id": "6UWogS6cDFQy"
      },
      "outputs": [],
      "source": [
        "# Define number of values per latents and functions to convert to indices\n",
        "latents_sizes = metadata[b'latents_sizes']\n",
        "\n",
        "latents_bases = np.concatenate((latents_sizes[::-1].cumprod()[::-1][1:],\n",
        "                                np.array([1,])))"
      ]
    },
    {
      "cell_type": "markdown",
      "metadata": {
        "colab_type": "text",
        "id": "16xn9qKIDFQ5"
      },
      "source": [
        "### Helper Functions "
      ]
    },
    {
      "cell_type": "code",
      "execution_count": 0,
      "metadata": {
        "colab": {},
        "colab_type": "code",
        "id": "CwwJCVV_DFQ8"
      },
      "outputs": [],
      "source": [
        "def latent_to_index(latents):    \n",
        "    return np.dot(latents, latents_bases).astype(int)\n",
        "\n",
        "def sample_latent_fix_shape(size=1,shape_index=0):\n",
        "    \"\"\"Sample the latent space fixing the \n",
        "    shape.\n",
        "    \n",
        "    Parameters:\n",
        "    -----------------------------------------\n",
        "    size(integer): Number of samples.\n",
        "    shape_index(integer): Choose the shape that you want:\n",
        "                          0: Square\n",
        "                          1: Ellipse\n",
        "                          2: Heart\n",
        "                         (default=0)\n",
        "    \n",
        "    \"\"\"\n",
        "    \n",
        "    samples = np.zeros((size, latents_sizes.size))\n",
        "    \n",
        "    for lat_i, lat_size in enumerate(latents_sizes):\n",
        "        samples[:, lat_i] = np.random.randint(lat_size, size=size)\n",
        "    \n",
        "    samples[:,1] = shape_index\n",
        "    return samples\n",
        "\n",
        "def sample_latent_changing_x_y(size=1):\n",
        "    \"\"\"Sample the latent space changing only the position.\n",
        "    \n",
        "    Parameters:\n",
        "    -----------------------------------------\n",
        "    size(integer): Number of samples.\n",
        "    \n",
        "    \"\"\"\n",
        "    \n",
        "    \n",
        "    samples = np.zeros((size, latents_sizes.size))\n",
        "    \n",
        "    \n",
        "    for lat_i, lat_size in enumerate(latents_sizes):                \n",
        "        if lat_i in range(len(latents_sizes)-2):\n",
        "            samples[:, lat_i] = 0\n",
        "        else:\n",
        "            samples[:, lat_i] = np.random.randint(lat_size, size=size)        \n",
        "    \n",
        "    return samples\n",
        "\n",
        "\n",
        "def sample_latent(size=1):\n",
        "    \"\"\"Sample the latent space.\n",
        "    \n",
        "    Parameters:\n",
        "    -----------------------------------------\n",
        "    size(integer): Number of samples.\n",
        "    \n",
        "    \"\"\"\n",
        "    \n",
        "    samples = np.zeros((size, latents_sizes.size))\n",
        "    \n",
        "    for lat_i, lat_size in enumerate(latents_sizes):\n",
        "        samples[:, lat_i] = np.random.randint(lat_size, size=size)\n",
        "        \n",
        "    return samples"
      ]
    },
    {
      "cell_type": "code",
      "execution_count": 0,
      "metadata": {
        "colab": {},
        "colab_type": "code",
        "id": "USLqZnCEDFRE"
      },
      "outputs": [],
      "source": [
        "# Sample latents randomly \n",
        "latents_sampled = sample_latent_changing_x_y(size=5000)\n",
        "\n",
        "# Select images\n",
        "indices_sampled = latent_to_index(latents_sampled)\n",
        "\n",
        "\n",
        "# imgs_sampled = imgs[indices_sampled]\n",
        "x_test = imgs[indices_sampled]\n",
        "x_test = x_test.reshape(x_test.shape + (1,))"
      ]
    },
    {
      "cell_type": "code",
      "execution_count": 0,
      "metadata": {
        "colab": {},
        "colab_type": "code",
        "id": "n7LqnuokDFRN"
      },
      "outputs": [],
      "source": [
        "# Sample latents randomly\n",
        "latents_sampled_train = sample_latent_changing_x_y(size=30000)\n",
        "\n",
        "# Select images\n",
        "indices_sampled = latent_to_index(latents_sampled_train)\n",
        "\n",
        "# Select images\n",
        "indices_sampled_train = latent_to_index(latents_sampled_train)\n",
        "imgs_sampled = imgs[indices_sampled]\n",
        "\n",
        "x_train = imgs[indices_sampled_train]\n",
        "x_train = x_train.reshape(x_train.shape + (1,))"
      ]
    },
    {
      "cell_type": "code",
      "execution_count": 9,
      "metadata": {
        "colab": {
          "base_uri": "https://localhost:8080/",
          "height": 85
        },
        "colab_type": "code",
        "id": "r8YKdxJ_DFRU",
        "outputId": "c3300606-876c-4121-fd88-b45a8783c384"
      },
      "outputs": [
        {
          "name": "stdout",
          "output_type": "stream",
          "text": [
            "Analysing the shapes:\n",
            " X train shape: (30000, 64, 64, 1) \n",
            " X test shape: (5000, 64, 64, 1) \n",
            "\n"
          ]
        }
      ],
      "source": [
        "print('Analysing the shapes:\\n'+ \n",
        "      ' X train shape: {} \\n X test shape: {} \\n'.format(x_train.shape,                                                                               \n",
        "                                                                               x_test.shape))"
      ]
    },
    {
      "cell_type": "markdown",
      "metadata": {
        "colab_type": "text",
        "id": "plQug12YDFRa"
      },
      "source": [
        ""
      ]
    },
    {
      "cell_type": "markdown",
      "metadata": {
        "colab_type": "text",
        "id": "n72QfHEEDFRc"
      },
      "source": [
        "## Building the Beta-VAE\n",
        "\n",
        "*In this notebook I will ignore Furure and Deprecation Warnings*\n",
        "\n",
        "**Choose 'build' if you want to train the VAE, if you want to reload weights type 'reconstruct'.**"
      ]
    },
    {
      "cell_type": "code",
      "execution_count": 10,
      "metadata": {
        "colab": {
          "base_uri": "https://localhost:8080/",
          "height": 80
        },
        "colab_type": "code",
        "id": "C8vEtTkgDFRe",
        "outputId": "41d4d9a2-54da-460a-d82b-39f42ac09408"
      },
      "outputs": [
        {
          "name": "stderr",
          "output_type": "stream",
          "text": [
            "Using TensorFlow backend.\n"
          ]
        },
        {
          "data": {
            "text/html": [
              "<p style=\"color: red;\">\n",
              "The default version of TensorFlow in Colab will soon switch to TensorFlow 2.x.<br>\n",
              "We recommend you <a href=\"https://www.tensorflow.org/guide/migrate\" target=\"_blank\">upgrade</a> now \n",
              "or ensure your notebook will continue to use TensorFlow 1.x via the <code>%tensorflow_version 1.x</code> magic:\n",
              "<a href=\"https://colab.research.google.com/notebooks/tensorflow_version.ipynb\" target=\"_blank\">more info</a>.</p>\n"
            ],
            "text/plain": [
              "<IPython.core.display.HTML object>"
            ]
          },
          "metadata": {
            "tags": []
          },
          "output_type": "display_data"
        }
      ],
      "source": [
        "import warnings\n",
        "warnings.simplefilter(action='ignore', category=FutureWarning)\n",
        "warnings.filterwarnings('ignore', category=DeprecationWarning)\n",
        "\n",
        "from Models.VAE_Keras import VariationalAutoencoder_Keras"
      ]
    },
    {
      "cell_type": "code",
      "execution_count": 0,
      "metadata": {
        "colab": {},
        "colab_type": "code",
        "id": "1yQilSrsDFRn"
      },
      "outputs": [],
      "source": [
        "# run params\n",
        "\n",
        "SECTION = 'bvae'\n",
        "RUN_ID = '0001'\n",
        "DATA_NAME = 'Dsprites_XY'\n",
        "RUN_FOLDER = 'run/{}/'.format(SECTION)\n",
        "RUN_FOLDER += '_'.join([RUN_ID, DATA_NAME])\n",
        "\n",
        "if not os.path.exists(RUN_FOLDER):\n",
        "    os.makedirs(RUN_FOLDER)\n",
        "    os.mkdir(os.path.join(RUN_FOLDER, 'viz'))\n",
        "    os.mkdir(os.path.join(RUN_FOLDER, 'images'))\n",
        "    os.mkdir(os.path.join(RUN_FOLDER, 'weights'))\n",
        "\n",
        "mode = 'build'"
      ]
    },
    {
      "cell_type": "code",
      "execution_count": 0,
      "metadata": {
        "colab": {},
        "colab_type": "code",
        "id": "AW2xFWoKDFRt"
      },
      "outputs": [],
      "source": [
        "#Latent size\n",
        "ZDIM = 2\n",
        "\n",
        "bvae = VariationalAutoencoder_Keras(   \n",
        "      input_dim = (64,64,1)\n",
        "    , encoder_conv_filters = [32,64,64,64]#, 64]\n",
        "    , encoder_conv_kernel_size = [3,3,3,3]#,3]\n",
        "    , encoder_conv_strides = [1,2,2,1]#,1]\n",
        "    , decoder_conv_t_filters = [64,64,32,1]\n",
        "    , decoder_conv_t_kernel_size = [3,3,3,3]\n",
        "    , decoder_conv_t_strides = [1,2,2,1]\n",
        "    , z_dim = ZDIM\n",
        ")\n",
        "\n",
        "if mode == 'build':\n",
        "    bvae.save(RUN_FOLDER)\n",
        "else:\n",
        "    bvae.load_weights(os.path.join(RUN_FOLDER, 'weights/weights.h5'))"
      ]
    },
    {
      "cell_type": "markdown",
      "metadata": {
        "colab_type": "text",
        "id": "jq0kM5eKDFRz"
      },
      "source": [
        "### Beta-VAE Summary"
      ]
    },
    {
      "cell_type": "code",
      "execution_count": 13,
      "metadata": {
        "colab": {
          "base_uri": "https://localhost:8080/",
          "height": 612
        },
        "colab_type": "code",
        "id": "ikYuqVTRDFR1",
        "outputId": "e90f50d5-5a80-461c-8688-56ee4cdc6753"
      },
      "outputs": [
        {
          "name": "stdout",
          "output_type": "stream",
          "text": [
            "Model: \"model_2\"\n",
            "__________________________________________________________________________________________________\n",
            "Layer (type)                    Output Shape         Param #     Connected to                     \n",
            "==================================================================================================\n",
            "encoder_input (InputLayer)      (None, 64, 64, 1)    0                                            \n",
            "__________________________________________________________________________________________________\n",
            "encoder_conv_0 (Conv2D)         (None, 64, 64, 32)   320         encoder_input[0][0]              \n",
            "__________________________________________________________________________________________________\n",
            "leaky_re_lu_1 (LeakyReLU)       (None, 64, 64, 32)   0           encoder_conv_0[0][0]             \n",
            "__________________________________________________________________________________________________\n",
            "encoder_conv_1 (Conv2D)         (None, 32, 32, 64)   18496       leaky_re_lu_1[0][0]              \n",
            "__________________________________________________________________________________________________\n",
            "leaky_re_lu_2 (LeakyReLU)       (None, 32, 32, 64)   0           encoder_conv_1[0][0]             \n",
            "__________________________________________________________________________________________________\n",
            "encoder_conv_2 (Conv2D)         (None, 16, 16, 64)   36928       leaky_re_lu_2[0][0]              \n",
            "__________________________________________________________________________________________________\n",
            "leaky_re_lu_3 (LeakyReLU)       (None, 16, 16, 64)   0           encoder_conv_2[0][0]             \n",
            "__________________________________________________________________________________________________\n",
            "encoder_conv_3 (Conv2D)         (None, 16, 16, 64)   36928       leaky_re_lu_3[0][0]              \n",
            "__________________________________________________________________________________________________\n",
            "leaky_re_lu_4 (LeakyReLU)       (None, 16, 16, 64)   0           encoder_conv_3[0][0]             \n",
            "__________________________________________________________________________________________________\n",
            "flatten_1 (Flatten)             (None, 16384)        0           leaky_re_lu_4[0][0]              \n",
            "__________________________________________________________________________________________________\n",
            "mu (Dense)                      (None, 2)            32770       flatten_1[0][0]                  \n",
            "__________________________________________________________________________________________________\n",
            "log_var (Dense)                 (None, 2)            32770       flatten_1[0][0]                  \n",
            "__________________________________________________________________________________________________\n",
            "encoder_output (Lambda)         (None, 2)            0           mu[0][0]                         \n",
            "                                                                 log_var[0][0]                    \n",
            "==================================================================================================\n",
            "Total params: 158,212\n",
            "Trainable params: 158,212\n",
            "Non-trainable params: 0\n",
            "__________________________________________________________________________________________________\n"
          ]
        }
      ],
      "source": [
        "bvae.encoder.summary()"
      ]
    },
    {
      "cell_type": "code",
      "execution_count": 14,
      "metadata": {
        "colab": {
          "base_uri": "https://localhost:8080/",
          "height": 527
        },
        "colab_type": "code",
        "id": "Bvy9lzn-DFR7",
        "outputId": "afbc617a-2920-4a91-83da-74b2c261f050"
      },
      "outputs": [
        {
          "name": "stdout",
          "output_type": "stream",
          "text": [
            "Model: \"model_3\"\n",
            "_________________________________________________________________\n",
            "Layer (type)                 Output Shape              Param #   \n",
            "=================================================================\n",
            "decoder_input (InputLayer)   (None, 2)                 0         \n",
            "_________________________________________________________________\n",
            "dense_1 (Dense)              (None, 16384)             49152     \n",
            "_________________________________________________________________\n",
            "reshape_1 (Reshape)          (None, 16, 16, 64)        0         \n",
            "_________________________________________________________________\n",
            "decoder_conv_t_0 (Conv2DTran (None, 16, 16, 64)        36928     \n",
            "_________________________________________________________________\n",
            "leaky_re_lu_5 (LeakyReLU)    (None, 16, 16, 64)        0         \n",
            "_________________________________________________________________\n",
            "decoder_conv_t_1 (Conv2DTran (None, 32, 32, 64)        36928     \n",
            "_________________________________________________________________\n",
            "leaky_re_lu_6 (LeakyReLU)    (None, 32, 32, 64)        0         \n",
            "_________________________________________________________________\n",
            "decoder_conv_t_2 (Conv2DTran (None, 64, 64, 32)        18464     \n",
            "_________________________________________________________________\n",
            "leaky_re_lu_7 (LeakyReLU)    (None, 64, 64, 32)        0         \n",
            "_________________________________________________________________\n",
            "decoder_conv_t_3 (Conv2DTran (None, 64, 64, 1)         289       \n",
            "_________________________________________________________________\n",
            "activation_1 (Activation)    (None, 64, 64, 1)         0         \n",
            "=================================================================\n",
            "Total params: 141,761\n",
            "Trainable params: 141,761\n",
            "Non-trainable params: 0\n",
            "_________________________________________________________________\n"
          ]
        }
      ],
      "source": [
        "bvae.decoder.summary()"
      ]
    },
    {
      "cell_type": "markdown",
      "metadata": {
        "colab_type": "text",
        "id": "FzEZ-CQWDFSA"
      },
      "source": [
        "## Training"
      ]
    },
    {
      "cell_type": "code",
      "execution_count": 0,
      "metadata": {
        "colab": {},
        "colab_type": "code",
        "id": "l53FfhqNDFSC"
      },
      "outputs": [],
      "source": [
        "#Compile Parameters (These parameters depend on a fine tuning) \n",
        "\n",
        "LEARNING_RATE = 0.0005\n",
        "R_LOSS_FACTOR = 5000\n",
        "BETA = 10"
      ]
    },
    {
      "cell_type": "code",
      "execution_count": 0,
      "metadata": {
        "colab": {},
        "colab_type": "code",
        "id": "AkJ47K8xDFSP"
      },
      "outputs": [],
      "source": [
        "bvae.compile(LEARNING_RATE, R_LOSS_FACTOR, BETA)"
      ]
    },
    {
      "cell_type": "code",
      "execution_count": 0,
      "metadata": {
        "colab": {},
        "colab_type": "code",
        "id": "ZX1wr0z6DFSV"
      },
      "outputs": [],
      "source": [
        "# Training Parameters\n",
        "\n",
        "BATCH_SIZE = 126\n",
        "\n",
        "EPOCHS = 20\n",
        "\n",
        "PRINT_EVERY_N_BATCHES = 100\n",
        "\n",
        "INITIAL_EPOCH = 0"
      ]
    },
    {
      "cell_type": "code",
      "execution_count": 0,
      "metadata": {
        "colab": {},
        "colab_type": "code",
        "id": "RVKVlYLqDFSb"
      },
      "outputs": [],
      "source": [
        "bvae.train(     \n",
        "    x_train\n",
        "    , batch_size = BATCH_SIZE\n",
        "    , epochs = EPOCHS\n",
        "    , run_folder = RUN_FOLDER\n",
        "    , print_every_n_batches = PRINT_EVERY_N_BATCHES\n",
        "    , initial_epoch = INITIAL_EPOCH\n",
        "          )"
      ]
    },
    {
      "cell_type": "markdown",
      "metadata": {
        "colab_type": "text",
        "id": "U0mBF4TzDFSg"
      },
      "source": [
        "## Analysis\n",
        "\n",
        "### Sampling from the Latent Space\n",
        "\n",
        "Here we want to sample the latent space randomly in order to see if the VAE can generate images. \n",
        "\n",
        "Let's sample coordinates 1 and 2 on the latent space randomly."
      ]
    },
    {
      "cell_type": "code",
      "execution_count": 21,
      "metadata": {
        "colab": {
          "base_uri": "https://localhost:8080/",
          "height": 34
        },
        "colab_type": "code",
        "id": "Vb4EEk3gDFSh",
        "outputId": "d7891b2d-fc51-4b2d-c527-0e128682753b"
      },
      "outputs": [
        {
          "name": "stdout",
          "output_type": "stream",
          "text": [
            "Size of the latent space: 2\n"
          ]
        }
      ],
      "source": [
        "print(f\"Size of the latent space: {ZDIM}\")"
      ]
    },
    {
      "cell_type": "code",
      "execution_count": 29,
      "metadata": {
        "colab": {
          "base_uri": "https://localhost:8080/",
          "height": 1000
        },
        "colab_type": "code",
        "id": "Y2dHb-32DFSn",
        "outputId": "441bac6e-f5b7-4422-b520-a7b6aaa75e01"
      },
      "outputs": [
        {
          "data": {
            "image/png": "[encoded data removed]",
            "text/plain": [
              "<Figure size 1440x1440 with 100 Axes>"
            ]
          },
          "metadata": {
            "tags": []
          },
          "output_type": "display_data"
        }
      ],
      "source": [
        "from scipy.stats import norm\n",
        "\n",
        "grid_size = 10\n",
        "figsize = 20\n",
        "\n",
        "x = norm.ppf(np.linspace(0.01, 0.99, grid_size))\n",
        "y = norm.ppf(np.linspace(0.01, 0.99, grid_size))\n",
        "\n",
        "xv, yv = np.meshgrid(x, y)\n",
        "\n",
        "xv = xv.flatten()\n",
        "yv = yv.flatten()\n",
        "\n",
        "z_grid = np.array(list(zip(xv, yv)))\n",
        "\n",
        "reconst = bvae.decoder.predict(z_grid)\n",
        "\n",
        "\n",
        "fig = plt.figure(figsize=(figsize, figsize))\n",
        "fig.subplots_adjust(hspace=0.4, wspace=0.4)\n",
        "for i in range(grid_size**2):\n",
        "    ax = fig.add_subplot(grid_size, grid_size, i+1)\n",
        "    ax.axis('off')\n",
        "    ax.imshow(reconst[i, :,:,0], cmap = 'Greys')"
      ]
    }
  ]
}